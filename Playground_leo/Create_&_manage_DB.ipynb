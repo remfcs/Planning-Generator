{
 "cells": [
  {
   "cell_type": "code",
   "execution_count": 12,
   "metadata": {},
   "outputs": [
    {
     "data": {
      "text/plain": [
       "[]"
      ]
     },
     "execution_count": 12,
     "metadata": {},
     "output_type": "execute_result"
    }
   ],
   "source": [
    "import sqlite3\n",
    "\n",
    "Data = 'data/data.sqlite3'\n",
    "\n",
    "\n",
    "def Delete_one_table(filename, name_table):\n",
    "    conn = sqlite3.connect(filename)\n",
    "    cursor = conn.cursor()\n",
    "    cursor.execute(\"DROP TABLE \" + name_table + \";\")\n",
    "    tables = cursor.fetchall()\n",
    "    conn.close()\n",
    "    return [table[0] for table in tables]\n",
    "\n",
    "def list_tables(filename):\n",
    "    conn = sqlite3.connect(filename)\n",
    "    cursor = conn.cursor()\n",
    "    cursor.execute(\"SELECT name FROM sqlite_master WHERE type='table';\")\n",
    "    tables = cursor.fetchall()\n",
    "    conn.close()\n",
    "    return [table[0] for table in tables]\n",
    "\n",
    "def Delete_all_tables(filename):\n",
    "    conn = sqlite3.connect(filename)\n",
    "    for i in list_tables(filename):\n",
    "        cursor = conn.cursor()\n",
    "        if i != 'sqlite_sequence':\n",
    "            cursor.execute(\"DROP TABLE \" + i + \";\")\n",
    "    conn.close()\n",
    "    return \n",
    "\n",
    "Delete_all_tables(Data)"
   ]
  },
  {
   "cell_type": "code",
   "execution_count": 13,
   "metadata": {},
   "outputs": [],
   "source": [
    "import sqlite3\n",
    "\n",
    "Data = 'data/data.sqlite3'\n",
    "\n",
    "def list_tables(filename):\n",
    "    conn = sqlite3.connect(filename)\n",
    "    cursor = conn.cursor()\n",
    "    cursor.execute(\"SELECT name FROM sqlite_master WHERE type='table';\")\n",
    "    tables = cursor.fetchall()\n",
    "    conn.close()\n",
    "    return [table[0] for table in tables]\n",
    "\n",
    "def Delete_all_tables(filename):\n",
    "    conn = sqlite3.connect(filename)\n",
    "    for i in list_tables(filename):\n",
    "        cursor = conn.cursor()\n",
    "        if i != \"sqlite_sequence\":\n",
    "            cursor.execute(\"DROP TABLE \" + i + \";\")\n",
    "        cursor.fetchall()\n",
    "    conn.close()\n",
    "\n",
    "Delete_all_tables(Data)\n",
    "\n",
    "# clef primaire auto-incrementé : AUTO_INCREMENT PRIMARY KEY\n",
    "# clef primaire : PRIMARY KEY\n",
    "\n",
    "# , FOREIGN KEY(...) REFERENCES 'table'(....)\n",
    "# , FOREIGN KEY(ID_room) REFERENCES Student(ID_room)\n",
    "\n",
    "def Create_tables(filename):\n",
    "    conn = sqlite3.connect(filename)\n",
    "    cursor = conn.cursor()\n",
    "    cursor.execute(\"PRAGMA foreign_keys = ON;\")\n",
    "# create student table\n",
    "    cursor.execute(\"CREATE TABLE IF NOT EXISTS Student (NAME VARCHAR(50),SURNAME VARCHAR(50),EMAIL VARCHAR(50) PRIMARY KEY,CLASS VARCHAR(5),LV1 VARCHAR(50),GRADE_LV1 INT,GROUP_LV1 INT,LV2 VARCHAR(50),GRADE_LV2 INT,GROUP_LV2 VARCHAR(50), EXTRA_TIME BOOLEAN, STATUS VARCHAR(50));\")\n",
    "    #cursor.execute(\"CREATE TABLE IF NOT EXISTS Student (NAME VARCHAR(50),SURNAME VARCHAR(50),EMAIL VARCHAR(50),CLASS VARCHAR(5),LV1 VARCHAR(50),GRADE_LV1 INT,GROUP_LV1 INT,LV2 VARCHAR(50),GRADE_LV2 INT,GROUP_LV2 VARCHAR(50), EXTRA_TIME BOOLEAN, STATUS VARCHAR(50));\")\n",
    "    #cursor.execute(\"CREATE TABLE IF NOT EXISTS Student (NAME VARCHAR(50),SURNAME VARCHAR(50),EMAIL VARCHAR(50) PRIMARY KEY,CLASS VARCHAR(5),LV1 VARCHAR(50),GRADE_LV1 INT,ID_room INT,LV2 VARCHAR(50),GRADE_LV2 INT,ID_room VARCHAR(50), EXTRA_TIME BOOLEAN, STATUS VARCHAR(50));\")    \n",
    "# create group table\n",
    "    cursor.execute(\"CREATE TABLE IF NOT EXISTS Groups (ID_Group INTEGER PRIMARY KEY AUTOINCREMENT,CLASS VARCHAR(5),LV VARCHAR(50),GROUP_LV INT);\")\n",
    "# create teacher table    \n",
    "    cursor.execute(\"CREATE TABLE IF NOT EXISTS Teachers (ID_teacher INT PRIMARY KEY, NAME VARCHAR(50),SURNAME VARCHAR(50),EMAIL VARCHAR(50), SUBJECT VARCHAR(20));\")\n",
    "# create availabilities table\n",
    "    cursor.execute(\"CREATE TABLE IF NOT EXISTS Availabilities (ID_Availability INT PRIMARY KEY, Day VARCHAR(12),Hour VARCHAR(5));\")\n",
    "# create Rooms table\n",
    "    cursor.execute(\"CREATE TABLE IF NOT EXISTS Rooms (ID_room INT PRIMARY KEY, NAME VARCHAR(50));\")\n",
    "# create Summary table\n",
    "    #cursor.execute(\"CREATE TABLE IF NOT EXISTS Summary (ID_Group VARCHAR(10), ID_teacher INT, ID_Room INT, ID_Availability INT, FOREIGN KEY(ID_Availability) REFERENCES Availabilities(ID_Availability), FOREIGN KEY(ID_teacher) REFERENCES Teachers(ID_teacher), FOREIGN KEY(ID_room) REFERENCES Rooms(ID_room));\")\n",
    "    cursor.execute(\"CREATE TABLE IF NOT EXISTS Summary  (ID_Group VARCHAR(10), ID_teacher INT, ID_Room INT, ID_Availability INT, FOREIGN KEY(ID_Group) REFERENCES Groups(ID_Group), FOREIGN KEY(ID_Availability) REFERENCES Availabilities(ID_Availability), FOREIGN KEY(ID_Teacher) REFERENCES Teachers(ID_teacher), FOREIGN KEY(ID_room) REFERENCES Student(ID_room));\")\n",
    "# create Availability_Teachers table\n",
    "    cursor.execute(\"CREATE TABLE IF NOT EXISTS Availability_Teachers (ID_Teacher INT, ID_Availability INT, FOREIGN KEY(ID_Teacher) REFERENCES Teachers(ID_teacher), FOREIGN KEY(ID_Availability) REFERENCES Availabilities(ID_Availability));\")\n",
    "# create Availability_Rooms table\n",
    "    cursor.execute(\"CREATE TABLE IF NOT EXISTS Availability_Rooms (ID_Room INT, ID_Availability INT, FOREIGN KEY(ID_Room) REFERENCES Rooms(ID_room), FOREIGN KEY(ID_Availability) REFERENCES Availabilities(ID_Availability));\")\n",
    "# create Availability_Class table\n",
    "    cursor.execute(\"CREATE TABLE IF NOT EXISTS Availability_Class (ID_Class VARCHAR(5), ID_Availability INT, FOREIGN KEY(ID_Class) REFERENCES Student(CLASSE), FOREIGN KEY(ID_Availability) REFERENCES Availabilities(ID_Availability));\")\n",
    "    cursor.fetchall()\n",
    "    conn.commit()\n",
    "    conn.close()\n",
    "\n",
    "Create_tables(Data)\n",
    "\n",
    "\n"
   ]
  },
  {
   "cell_type": "code",
   "execution_count": 14,
   "metadata": {},
   "outputs": [
    {
     "name": "stdout",
     "output_type": "stream",
     "text": [
      "[]\n"
     ]
    }
   ],
   "source": [
    "import sqlite3\n",
    "\n",
    "Data = 'data/data.sqlite3'\n",
    "\n",
    "\n",
    "conn = sqlite3.connect(Data)\n",
    "cursor = conn.cursor()\n",
    "cursor.execute(\"SELECT EMAIL, COUNT(*) AS count FROM Student GROUP BY EMAIL HAVING COUNT(*) > 1 ;\")\n",
    "tables = cursor.fetchall()\n",
    "conn.close()\n",
    "print(tables)"
   ]
  },
  {
   "cell_type": "code",
   "execution_count": 2,
   "metadata": {},
   "outputs": [],
   "source": [
    "import sqlite3\n",
    "\n",
    "Data = 'data/test.sqlite3'\n",
    "\n",
    "def Create_tables2(filename):\n",
    "    conn = sqlite3.connect(filename)\n",
    "    cursor = conn.cursor()\n",
    "    cursor.execute(\"PRAGMA foreign_keys = ON;\")\n",
    "# create student table\n",
    "    cursor.execute(\"CREATE TABLE IF NOT EXISTS Student(EMAIL        Varchar (50) NOT NULL ,NAME         Varchar (50) NOT NULL ,SURNAME      Varchar (50) NOT NULL ,SCHOOL_YEAR  Varchar (50) NOT NULL ,LV1          Varchar (50) NOT NULL ,GRADE_LV1    Float NOT NULL ,GROUP_LV1    Varchar (50) NOT NULL ,LV2          Varchar (50) NOT NULL ,GRADE_LV2    Float NOT NULL ,GROUP_LV2    Varchar (50) NOT NULL ,REDUCED_EXAM Bool NOT NULL ,STATUS       Varchar (50) NOT NULL,CONSTRAINT Student_PK PRIMARY KEY (EMAIL));\")\n",
    "# create group table\n",
    "    cursor.execute(\"CREATE TABLE IF NOT EXISTS List_Groups_Students (ID_COURSE     Varchar (50) NOT NULL, ID_STUDENT Varchar(50) NOT NULL, FOREIGN KEY(ID_COURSE) REFERENCES Courses(ID_COURSE), FOREIGN KEY(ID_STUDENT) REFERENCES Student(EMAIL));\")\n",
    "# create teacher table    \n",
    "    cursor.execute(\"CREATE TABLE IF NOT EXISTS Teachers(ID_TEACHER Varchar (50) NOT NULL ,NAME       Varchar (50) NOT NULL ,SURNAME    Varchar (50) NOT NULL ,MAIL       Varchar (50) NOT NULL ,SUBJECT    Varchar (50) NOT NULL,CONSTRAINT Teachers_PK PRIMARY KEY (ID_TEACHER));\")\n",
    "# create availabilities table\n",
    "    cursor.execute(\"CREATE TABLE IF NOT EXISTS Availibilities(ID_AVAILIBILITY Varchar (50) NOT NULL ,DAY             Varchar (50) NOT NULL ,HOUR            Varchar (50) NOT NULL,CONSTRAINT Availibilities_PK PRIMARY KEY (ID_AVAILIBILITY));\")\n",
    "# create Rooms table\n",
    "    cursor.execute(\"CREATE TABLE IF NOT EXISTS Rooms(ID_ROOM Varchar (50) NOT NULL ,NAME    Varchar (50) NOT NULL,CONSTRAINT Rooms_PK PRIMARY KEY (ID_ROOM));\")\n",
    "# create Summary table\n",
    "    cursor.execute(\"CREATE TABLE IF NOT EXISTS Courses(ID_COURSE     Varchar (50) NOT NULL ,ID_GROUP      Varchar (50) NOT NULL ,ID_TEACHER    Varchar (50) NOT NULL ,ID_ROOM       Varchar (50) NOT NULL ,ID_AVAILIBITY Varchar (50) NOT NULL,CONSTRAINT Courses_PK PRIMARY KEY (ID_COURSE));\")\n",
    "# create Availability_Teachers table\n",
    "    cursor.execute(\"CREATE TABLE IF NOT EXISTS Availability_Teachers (ID_Teacher INT, ID_Availability INT, FOREIGN KEY(ID_Teacher) REFERENCES Teachers(ID_teacher), FOREIGN KEY(ID_Availability) REFERENCES Availabilities(ID_Availability));\")\n",
    "# create Availability_Rooms table\n",
    "    cursor.execute(\"CREATE TABLE IF NOT EXISTS Availability_Rooms (ID_Room INT, ID_Availability INT, FOREIGN KEY(ID_Room) REFERENCES Rooms(ID_room), FOREIGN KEY(ID_Availability) REFERENCES Availabilities(ID_Availability));\")\n",
    "# create Availability_Class table\n",
    "    cursor.execute(\"CREATE TABLE IF NOT EXISTS Availability_Class (ID_Class VARCHAR(5), ID_Availability INT, FOREIGN KEY(ID_Class) REFERENCES Student(CLASSE), FOREIGN KEY(ID_Availability) REFERENCES Availabilities(ID_Availability));\")\n",
    "    cursor.fetchall()\n",
    "    conn.commit()\n",
    "    conn.close()\n",
    "\n",
    "Create_tables2(Data)\n"
   ]
  }
 ],
 "metadata": {
  "kernelspec": {
   "display_name": "base",
   "language": "python",
   "name": "python3"
  },
  "language_info": {
   "codemirror_mode": {
    "name": "ipython",
    "version": 3
   },
   "file_extension": ".py",
   "mimetype": "text/x-python",
   "name": "python",
   "nbconvert_exporter": "python",
   "pygments_lexer": "ipython3",
   "version": "3.11.5"
  }
 },
 "nbformat": 4,
 "nbformat_minor": 2
}
